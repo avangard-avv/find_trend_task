import pandas as pd
import numpy as np
import matplotlib.pyplot as plt
import mplfinance as mpf
import time
from matplotlib.patches import Rectangle
from enum import Enum
from typing import List
from matplotlib.figure import Figure
from matplotlib.axes._axes import Axes
import matplotlib.dates as mdates

MAX_ORDER_BLOCK_SIZE = 10


class Trend(Enum):
    BULLISH = "UPTREND"
    BEARISH = "DOWNTREND"


class OrderBlock(Rectangle):
    def __init__(self, trend: Trend, xy, width, height, **kwargs):
        self.trend = trend
        color = 'green' if trend == Trend.BULLISH else 'red'
        super().__init__(
            xy, width, height,
            edgecolor=color,
            facecolor=color,
            alpha=0.4,
            **kwargs
        )


def run_time(func):
    def wrapper(*args):
        start_time = time.time()
        result = func(*args)
        end_time = time.time()
        print(f"Running time is {end_time - start_time}")
        return result

    return wrapper


@run_time
def find_order_block_fills(df: pd.DataFrame, max_block_size: int = 10) -> List[dict]:
    fill_areas = []
    df_sorted = df.sort_index()

    max_lookback = max_block_size - 1
    max_lookforward = max_block_size - 1

    for i in range(1, len(df_sorted) - 1):
        curr = df_sorted.iloc[i]
        prev = df_sorted.iloc[i - 1]
        nxt = df_sorted.iloc[i + 1]

        extreme_idx = i

        if curr['High'] > prev['High'] and curr['High'] > nxt['High']:

            left_search_bound = max(0, extreme_idx - max_lookback)

            farthest_shadow_low = curr['Low']
            left_candle_idx = extreme_idx

            for k in range(extreme_idx - 1, left_search_bound - 1, -1):
                if df_sorted.iloc[k]['Low'] < farthest_shadow_low:
                    farthest_shadow_low = df_sorted.iloc[k]['Low']
                    left_candle_idx = k

            right_search_bound = min(len(df_sorted) - 1, extreme_idx + max_lookforward)

            overlapping_candle_found = False
            right_candle_idx = -1

            y1_final = curr['Low']
            y2_final = curr['High']

            for j in range(extreme_idx + 1, right_search_bound + 1):
                j_candle = df_sorted.iloc[j]

                j_body_min = min(j_candle['Open'], j_candle['Close'])

                if j_body_min <= farthest_shadow_low:
                    overlapping_candle_found = True
                    right_candle_idx = j
                    y1_final = farthest_shadow_low
                    y2_final = curr['High']
                    break

            if not overlapping_candle_found:
                opposite_extremum_idx = -1
                min_low_after_extreme = np.inf

                for j in range(extreme_idx + 1, right_search_bound + 1):
                    if df_sorted.iloc[j]['Low'] < min_low_after_extreme:
                        min_low_after_extreme = df_sorted.iloc[j]['Low']
                        opposite_extremum_idx = j

                if opposite_extremum_idx != -1:
                    right_candle_idx = opposite_extremum_idx
                    y1_final = min(curr['Low'], df_sorted.iloc[opposite_extremum_idx]['Low'])
                    y2_final = max(curr['High'], df_sorted.iloc[opposite_extremum_idx]['High'])
                else:
                    continue

            block_candles_count = right_candle_idx - left_candle_idx + 1
            if not (2 <= block_candles_count <= max_block_size):
                continue

            where_mask = pd.Series(False, index=df_sorted.index)
            where_mask.iloc[left_candle_idx: right_candle_idx + 1] = True

            fill_areas.append(dict(
                y1=y1_final,
                y2=y2_final,
                where=where_mask,
                color='red',
                alpha=0.1,
                label='Bearish OB'
            ))

        elif curr['Low'] < prev['Low'] and curr['Low'] < nxt['Low']:
            extreme_idx = i

            left_search_bound = max(0, extreme_idx - max_lookback)

            farthest_shadow_high = curr['High']
            left_candle_idx = extreme_idx

            for k in range(extreme_idx - 1, left_search_bound - 1, -1):
                if df_sorted.iloc[k]['High'] > farthest_shadow_high:
                    farthest_shadow_high = df_sorted.iloc[k]['High']
                    left_candle_idx = k

            right_search_bound = min(len(df_sorted) - 1, extreme_idx + max_lookforward)

            overlapping_candle_found = False
            right_candle_idx = -1

            y1_final = curr['Low']
            y2_final = curr['High']

            for j in range(extreme_idx + 1, right_search_bound + 1):
                j_candle = df_sorted.iloc[j]

                j_body_max = max(j_candle['Open'], j_candle['Close'])

                if j_body_max >= farthest_shadow_high:
                    overlapping_candle_found = True
                    right_candle_idx = j
                    y1_final = curr['Low']
                    y2_final = farthest_shadow_high
                    break

            if not overlapping_candle_found:
                opposite_extremum_idx = -1
                max_high_after_extreme = -np.inf

                for j in range(extreme_idx + 1, right_search_bound + 1):
                    if df_sorted.iloc[j]['High'] > max_high_after_extreme:
                        max_high_after_extreme = df_sorted.iloc[j]['High']
                        opposite_extremum_idx = j

                if opposite_extremum_idx != -1:
                    right_candle_idx = opposite_extremum_idx
                    y1_final = min(curr['Low'], df_sorted.iloc[opposite_extremum_idx]['Low'])
                    y2_final = max(curr['High'], df_sorted.iloc[opposite_extremum_idx]['High'])
                else:
                    continue

            block_candles_count = right_candle_idx - left_candle_idx + 1
            if not (2 <= block_candles_count <= max_block_size):
                continue

            where_mask = pd.Series(False, index=df_sorted.index)
            where_mask.iloc[left_candle_idx: right_candle_idx + 1] = True

            fill_areas.append(dict(
                y1=y1_final,
                y2=y2_final,
                where=where_mask,
                color='green',
                alpha=0.1,
                label='Bullish OB'
            ))

    return fill_areas


def populate_plot(list_blocks: List[OrderBlock], ax: Axes) -> None:
    for item in list_blocks:
        ax.add_patch(item)
    ax.relim()
    ax.autoscale_view()
    print(ax.patches)


df = pd.read_csv("data NQM2025 20250319-20250320.csv")

df.columns = ["Datetime", "Open", "High", "Low", "Close", "Volume"]

df['Datetime'] = pd.to_datetime(df['Datetime'], format='%Y%m%d %H%M%S')

df.set_index('Datetime', inplace=True)

df.sort_index(inplace=True)

df_15min = df.resample('15min').agg({
    'Open': 'first', 'High': 'max',
    'Low': 'min', 'Close': 'last',
    'Volume': 'sum'
}).dropna()

order_block_fill_data = find_order_block_fills(df_15min)

print(f"Found {len(order_block_fill_data)} order blocks.")

fig, axlist = mpf.plot(
    df_15min,
    type='candle',
    style='yahoo',
    volume=True,
    title="NQM2025 15-Min Candlestick Chart with Order Blocks",
    returnfig=True,
    fill_between=order_block_fill_data,
    show_nontrading=True
)

if axlist:
    axlist[0].legend(loc='upper left', handles=[
        plt.Line2D([0], [0], color='red', alpha=0.5, lw=2, label='Bearish OB'),
        plt.Line2D([0], [0], color='green', alpha=0.5, lw=2, label='Bullish OB')
    ])

plt.tight_layout()
plt.show()